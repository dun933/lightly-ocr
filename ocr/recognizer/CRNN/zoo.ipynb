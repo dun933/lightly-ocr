{
 "cells": [
  {
   "cell_type": "code",
   "execution_count": 1,
   "metadata": {},
   "outputs": [],
   "source": [
    "%load_ext autoreload\n",
    "%autoreload 2"
   ]
  },
  {
   "cell_type": "code",
   "execution_count": 20,
   "metadata": {},
   "outputs": [],
   "source": [
    "import os\n",
    "import sys\n",
    "import lmdb\n",
    "import torch\n",
    "from tools.utils import edit_distance\n",
    "device = torch.device('cuda' if torch.cuda.is_available() else 'cpu')"
   ]
  },
  {
   "cell_type": "code",
   "execution_count": 3,
   "metadata": {},
   "outputs": [],
   "source": [
    "import yaml\n",
    "from model import CRNN"
   ]
  },
  {
   "cell_type": "code",
   "execution_count": 4,
   "metadata": {},
   "outputs": [],
   "source": [
    "with open('config.yml','r') as f:\n",
    "    config = yaml.safe_load(f)"
   ]
  },
  {
   "cell_type": "code",
   "execution_count": 5,
   "metadata": {},
   "outputs": [],
   "source": [
    "model = CRNN(config).to(device)"
   ]
  },
  {
   "cell_type": "code",
   "execution_count": 6,
   "metadata": {},
   "outputs": [],
   "source": [
    "inputs = torch.randn((1,1,768,768)).cuda()"
   ]
  },
  {
   "cell_type": "code",
   "execution_count": 23,
   "metadata": {},
   "outputs": [],
   "source": [
    "s1='rain'\n",
    "s2='shine'\n",
    "l1,l2 = len(s1),len(s2)"
   ]
  },
  {
   "cell_type": "code",
   "execution_count": 24,
   "metadata": {},
   "outputs": [
    {
     "data": {
      "text/plain": [
       "3"
      ]
     },
     "execution_count": 24,
     "metadata": {},
     "output_type": "execute_result"
    }
   ],
   "source": [
    "edit_distance(s1,s2)"
   ]
  },
  {
   "cell_type": "code",
   "execution_count": 35,
   "metadata": {},
   "outputs": [
    {
     "data": {
      "text/plain": [
       "'  12034.23'"
      ]
     },
     "execution_count": 35,
     "metadata": {},
     "output_type": "execute_result"
    }
   ],
   "source": [
    "s = 12034.2345\n",
    "f'{s:10.2f}'"
   ]
  },
  {
   "cell_type": "code",
   "execution_count": 38,
   "metadata": {},
   "outputs": [],
   "source": [
    "a = torch.randn(1, 3,28,28)"
   ]
  },
  {
   "cell_type": "code",
   "execution_count": 39,
   "metadata": {},
   "outputs": [
    {
     "data": {
      "text/plain": [
       "torch.return_types.max(\n",
       "values=tensor([[[2.4018, 1.6723, 1.8483, 2.5243, 2.2455, 1.8133, 2.1147, 1.5330,\n",
       "          2.5112, 2.2854, 1.4545, 2.5349, 2.2691, 2.2668, 2.2192, 2.4685,\n",
       "          2.5350, 2.2830, 1.3454, 2.7092, 2.6360, 1.2213, 2.2539, 2.5796,\n",
       "          1.6571, 2.1452, 1.7450, 1.8038],\n",
       "         [1.4721, 2.6061, 1.8829, 2.3125, 2.6171, 2.2968, 2.5809, 2.1777,\n",
       "          2.6689, 2.1462, 0.9898, 1.6741, 2.0238, 1.8701, 1.3883, 1.5343,\n",
       "          2.5270, 1.4218, 2.1736, 1.6946, 1.6202, 2.5885, 2.4383, 2.5143,\n",
       "          2.2463, 2.1953, 2.1250, 1.5494],\n",
       "         [2.3483, 2.2245, 1.5885, 1.6483, 2.0821, 1.4609, 2.3017, 1.7722,\n",
       "          1.3107, 2.4988, 1.5334, 1.5388, 2.5023, 1.8443, 1.2555, 2.2674,\n",
       "          1.3006, 1.8213, 1.3878, 2.7993, 2.3113, 2.4599, 2.7454, 2.9385,\n",
       "          2.2485, 2.5674, 1.7594, 2.3379]]]),\n",
       "indices=tensor([[[15,  6, 23,  8, 25,  5,  4, 17, 15, 25, 25,  7, 15,  2, 24, 27, 23,\n",
       "           8, 13, 27,  2, 22, 16, 17, 20, 20,  6, 11],\n",
       "         [12, 26, 27,  0,  1,  7, 16,  6, 27, 10,  6, 16, 21, 26,  5,  4,  4,\n",
       "          24, 26,  7,  0,  9,  4,  6,  4,  4, 17, 27],\n",
       "         [11,  4,  5, 15, 15, 22,  8,  1, 18, 12,  0, 12, 15, 24, 18,  1, 16,\n",
       "           9, 14, 12, 14,  8,  7, 15, 24, 23, 12,  9]]]))"
      ]
     },
     "execution_count": 39,
     "metadata": {},
     "output_type": "execute_result"
    }
   ],
   "source": [
    "a.max(2)"
   ]
  },
  {
   "cell_type": "code",
   "execution_count": null,
   "metadata": {},
   "outputs": [],
   "source": []
  }
 ],
 "metadata": {
  "kernelspec": {
   "display_name": "Python 3",
   "language": "python",
   "name": "python3"
  },
  "language_info": {
   "codemirror_mode": {
    "name": "ipython",
    "version": 3
   },
   "file_extension": ".py",
   "mimetype": "text/x-python",
   "name": "python",
   "nbconvert_exporter": "python",
   "pygments_lexer": "ipython3",
   "version": "3.8.2"
  },
  "varInspector": {
   "cols": {
    "lenName": 16,
    "lenType": 16,
    "lenVar": 40
   },
   "kernels_config": {
    "python": {
     "delete_cmd_postfix": "",
     "delete_cmd_prefix": "del ",
     "library": "var_list.py",
     "varRefreshCmd": "print(var_dic_list())"
    },
    "r": {
     "delete_cmd_postfix": ") ",
     "delete_cmd_prefix": "rm(",
     "library": "var_list.r",
     "varRefreshCmd": "cat(var_dic_list()) "
    }
   },
   "types_to_exclude": [
    "module",
    "function",
    "builtin_function_or_method",
    "instance",
    "_Feature"
   ],
   "window_display": false
  }
 },
 "nbformat": 4,
 "nbformat_minor": 4
}
