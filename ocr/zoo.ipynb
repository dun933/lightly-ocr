{
 "cells": [
  {
   "cell_type": "code",
   "execution_count": 1,
   "metadata": {},
   "outputs": [],
   "source": [
    "%load_ext autoreload\n",
    "%autoreload 2"
   ]
  },
  {
   "cell_type": "code",
   "execution_count": 2,
   "metadata": {},
   "outputs": [],
   "source": [
    "import os\n",
    "import sys\n",
    "import lmdb\n",
    "import torch\n",
    "import yaml \n",
    "device = torch.device('cuda' if torch.cuda.is_available() else 'cpu')"
   ]
  },
  {
   "cell_type": "code",
   "execution_count": 3,
   "metadata": {},
   "outputs": [],
   "source": [
    "with open(os.path.join('config.yml'),'r') as f:\n",
    "    config = yaml.safe_load(f)"
   ]
  },
  {
   "cell_type": "code",
   "execution_count": 4,
   "metadata": {},
   "outputs": [],
   "source": [
    "model_path = os.path.join('recognizer','models','CRNN.pth')"
   ]
  },
  {
   "cell_type": "code",
   "execution_count": 5,
   "metadata": {},
   "outputs": [],
   "source": [
    "from model import CRNN"
   ]
  },
  {
   "cell_type": "code",
   "execution_count": 6,
   "metadata": {},
   "outputs": [],
   "source": [
    "model=CRNN(config)"
   ]
  },
  {
   "cell_type": "code",
   "execution_count": 7,
   "metadata": {},
   "outputs": [],
   "source": [
    "inputs = torch.randn((1,1,768,768)).cuda()"
   ]
  },
  {
   "cell_type": "code",
   "execution_count": 8,
   "metadata": {},
   "outputs": [],
   "source": [
    "a = torch.randn(1, 3,28,28)"
   ]
  },
  {
   "cell_type": "code",
   "execution_count": 9,
   "metadata": {},
   "outputs": [
    {
     "data": {
      "text/plain": [
       "torch.return_types.max(\n",
       "values=tensor([[[2.5847, 1.8470, 2.9306, 1.0495, 2.8486, 2.3679, 2.0291, 1.8376,\n",
       "          2.1413, 2.3185, 1.9928, 2.1449, 1.9564, 1.1875, 2.3831, 1.8952,\n",
       "          1.4088, 1.4298, 1.5053, 2.3711, 1.3106, 1.7699, 2.2830, 1.8800,\n",
       "          1.6288, 1.1254, 1.8647, 2.0971],\n",
       "         [1.7209, 1.4660, 1.8465, 1.8167, 1.3499, 1.3926, 2.5320, 2.5611,\n",
       "          1.8711, 2.0495, 1.6249, 1.7500, 2.0724, 1.7872, 2.6884, 2.0138,\n",
       "          1.2534, 2.4051, 2.4678, 2.2235, 1.6823, 1.7515, 1.9010, 1.6050,\n",
       "          1.6182, 1.3002, 1.0088, 2.0390],\n",
       "         [1.3292, 2.5080, 2.1936, 3.0380, 2.1532, 1.6321, 1.4727, 1.9138,\n",
       "          2.1032, 2.2523, 2.0841, 2.2140, 1.5085, 1.8099, 2.2375, 2.7457,\n",
       "          2.2525, 2.5306, 2.3769, 2.3465, 1.7438, 2.7382, 2.3162, 1.9971,\n",
       "          1.9377, 2.5270, 2.1344, 2.4616]]]),\n",
       "indices=tensor([[[15,  9, 24, 10, 25, 11, 14,  2, 26,  9, 15, 21, 22, 21,  6, 27, 27,\n",
       "           4, 21,  2, 24, 15, 24, 20,  5, 16, 12,  6],\n",
       "         [ 8, 17, 25, 17, 27, 23, 15,  7,  3, 24, 10, 22, 11, 27, 17, 24, 23,\n",
       "          27, 19,  6,  3, 21, 12, 19,  0, 19,  7, 22],\n",
       "         [25, 25, 14, 14,  8,  0, 17, 10, 20, 13,  1,  7, 17,  6, 23, 22, 10,\n",
       "          27,  6,  7,  1, 11,  0, 17, 20,  7,  8,  4]]]))"
      ]
     },
     "execution_count": 9,
     "metadata": {},
     "output_type": "execute_result"
    }
   ],
   "source": [
    "a.max(2)"
   ]
  },
  {
   "cell_type": "code",
   "execution_count": 10,
   "metadata": {},
   "outputs": [],
   "source": [
    "i2h = torch.nn.Linear(64,64, bias=False)"
   ]
  },
  {
   "cell_type": "code",
   "execution_count": 11,
   "metadata": {},
   "outputs": [],
   "source": [
    "feats = torch.randn(1, 64, 64)"
   ]
  },
  {
   "cell_type": "code",
   "execution_count": 13,
   "metadata": {},
   "outputs": [],
   "source": [
    "nT,nB,nC = feats.size()"
   ]
  },
  {
   "cell_type": "code",
   "execution_count": 14,
   "metadata": {},
   "outputs": [
    {
     "data": {
      "text/plain": [
       "(1, 64, 64)"
      ]
     },
     "execution_count": 14,
     "metadata": {},
     "output_type": "execute_result"
    }
   ],
   "source": [
    "nT, nB, nC"
   ]
  },
  {
   "cell_type": "code",
   "execution_count": 15,
   "metadata": {},
   "outputs": [
    {
     "data": {
      "text/plain": [
       "torch.Size([1, 64, 64])"
      ]
     },
     "execution_count": 15,
     "metadata": {},
     "output_type": "execute_result"
    }
   ],
   "source": [
    "feats.size()"
   ]
  },
  {
   "cell_type": "code",
   "execution_count": 16,
   "metadata": {},
   "outputs": [
    {
     "data": {
      "text/plain": [
       "tensor([[-0.9737, -0.1822, -0.0689,  ...,  1.9409, -0.1431, -0.6873],\n",
       "        [ 0.1292,  0.8243,  0.7632,  ...,  2.1747, -0.8187,  0.5166],\n",
       "        [ 0.4732, -0.0679,  0.2421,  ..., -0.5167,  0.1817,  0.0399],\n",
       "        ...,\n",
       "        [ 0.7295, -0.7027,  0.7635,  ...,  0.8148,  1.2969, -0.7561],\n",
       "        [ 0.9257,  0.6207,  0.3198,  ...,  2.4206,  0.4302, -0.0289],\n",
       "        [ 0.1749,  1.4857,  0.3318,  ..., -1.2419,  0.7863, -0.0368]])"
      ]
     },
     "execution_count": 16,
     "metadata": {},
     "output_type": "execute_result"
    }
   ],
   "source": [
    "feats.view(-1, nC)"
   ]
  },
  {
   "cell_type": "code",
   "execution_count": 17,
   "metadata": {},
   "outputs": [
    {
     "data": {
      "text/plain": [
       "torch.Size([2, 4, 1])"
      ]
     },
     "execution_count": 17,
     "metadata": {},
     "output_type": "execute_result"
    }
   ],
   "source": [
    "torch.tensor([[1,2,3,4],[1,2,4,5]]).unsqueeze(2).size()"
   ]
  },
  {
   "cell_type": "code",
   "execution_count": 18,
   "metadata": {},
   "outputs": [
    {
     "data": {
      "text/plain": [
       "False"
      ]
     },
     "execution_count": 18,
     "metadata": {},
     "output_type": "execute_result"
    }
   ],
   "source": [
    "torch.equal(i2h(feats), i2h(feats.view(-1, nC)))"
   ]
  },
  {
   "cell_type": "code",
   "execution_count": 19,
   "metadata": {},
   "outputs": [],
   "source": [
    "rnn = torch.nn.LSTM(64,256,bidirectional=True,batch_first=True)"
   ]
  },
  {
   "cell_type": "code",
   "execution_count": 20,
   "metadata": {},
   "outputs": [
    {
     "data": {
      "text/plain": [
       "True"
      ]
     },
     "execution_count": 20,
     "metadata": {},
     "output_type": "execute_result"
    }
   ],
   "source": [
    "rnn.batch_first"
   ]
  },
  {
   "cell_type": "code",
   "execution_count": 21,
   "metadata": {},
   "outputs": [],
   "source": [
    "import numpy as np"
   ]
  },
  {
   "cell_type": "code",
   "execution_count": 22,
   "metadata": {},
   "outputs": [],
   "source": [
    "from collections.abc import Iterable"
   ]
  },
  {
   "cell_type": "code",
   "execution_count": null,
   "metadata": {},
   "outputs": [],
   "source": []
  },
  {
   "cell_type": "code",
   "execution_count": null,
   "metadata": {},
   "outputs": [],
   "source": []
  }
 ],
 "metadata": {
  "kernelspec": {
   "display_name": "Python 3",
   "language": "python",
   "name": "python3"
  },
  "language_info": {
   "codemirror_mode": {
    "name": "ipython",
    "version": 3
   },
   "file_extension": ".py",
   "mimetype": "text/x-python",
   "name": "python",
   "nbconvert_exporter": "python",
   "pygments_lexer": "ipython3",
   "version": "3.8.2"
  },
  "varInspector": {
   "cols": {
    "lenName": 16,
    "lenType": 16,
    "lenVar": 40
   },
   "kernels_config": {
    "python": {
     "delete_cmd_postfix": "",
     "delete_cmd_prefix": "del ",
     "library": "var_list.py",
     "varRefreshCmd": "print(var_dic_list())"
    },
    "r": {
     "delete_cmd_postfix": ") ",
     "delete_cmd_prefix": "rm(",
     "library": "var_list.r",
     "varRefreshCmd": "cat(var_dic_list()) "
    }
   },
   "types_to_exclude": [
    "module",
    "function",
    "builtin_function_or_method",
    "instance",
    "_Feature"
   ],
   "window_display": false
  }
 },
 "nbformat": 4,
 "nbformat_minor": 4
}
