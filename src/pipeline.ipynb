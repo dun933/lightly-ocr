{
 "cells": [
  {
   "cell_type": "code",
   "execution_count": 1,
   "metadata": {},
   "outputs": [],
   "source": [
    "%load_ext autoreload\n",
    "%reload_ext autoreload\n",
    "%matplotlib inline"
   ]
  },
  {
   "cell_type": "markdown",
   "metadata": {},
   "source": [
    "## CRAFT-MORAN"
   ]
  },
  {
   "cell_type": "code",
   "execution_count": 2,
   "metadata": {},
   "outputs": [],
   "source": [
    "import cv2\n",
    "import numpy as np\n",
    "import torch\n",
    "import time"
   ]
  },
  {
   "cell_type": "code",
   "execution_count": 4,
   "metadata": {},
   "outputs": [],
   "source": [
    "from detector import CRAFTDetector\n",
    "from recognizer import MORANRecognizer"
   ]
  },
  {
   "cell_type": "code",
   "execution_count": 11,
   "metadata": {},
   "outputs": [
    {
     "name": "stderr",
     "output_type": "stream",
     "text": [
      "/home/aar0npham/.local/lib/python3.8/site-packages/torch/nn/modules/rnn.py:47: UserWarning: dropout option adds dropout after all but last recurrent layer, so non-zero dropout expects num_layers greater than 1, but got dropout=0.3 and num_layers=1\n",
      "  warnings.warn(\"dropout option adds dropout after all but last \"\n"
     ]
    },
    {
     "name": "stdout",
     "output_type": "stream",
     "text": [
      "loading pretrained model from /mnt/Centralized/documents/cs/lightly-ocr/models/moran_v2_demo.pth\n"
     ]
    },
    {
     "data": {
      "text/plain": [
       "2.1708080768585205"
      ]
     },
     "execution_count": 11,
     "metadata": {},
     "output_type": "execute_result"
    }
   ],
   "source": [
    "tic = time.time()\n",
    "detector = CRAFTDetector()\n",
    "detector.load()\n",
    "recognizer = MORANRecognizer()\n",
    "recognizer.load()\n",
    "toc = time.time()\n",
    "toc-tic"
   ]
  },
  {
   "cell_type": "code",
   "execution_count": 12,
   "metadata": {},
   "outputs": [
    {
     "data": {
      "text/plain": [
       "'CRAFT'"
      ]
     },
     "execution_count": 12,
     "metadata": {},
     "output_type": "execute_result"
    }
   ],
   "source": [
    "detector.net.module.__class__.__name__"
   ]
  },
  {
   "cell_type": "code",
   "execution_count": 13,
   "metadata": {},
   "outputs": [],
   "source": [
    "img = '../img/test.png'\n",
    "res = []"
   ]
  },
  {
   "cell_type": "code",
   "execution_count": 14,
   "metadata": {},
   "outputs": [
    {
     "data": {
      "text/plain": [
       "0.30583620071411133"
      ]
     },
     "execution_count": 14,
     "metadata": {},
     "output_type": "execute_result"
    }
   ],
   "source": [
    "tic1 = time.time()\n",
    "roi,_,_,_ = detector.process(cv2.imread(img))\n",
    "toc1 = time.time()\n",
    "toc1-tic1"
   ]
  },
  {
   "cell_type": "code",
   "execution_count": 15,
   "metadata": {},
   "outputs": [
    {
     "data": {
      "text/plain": [
       "9.434590578079224"
      ]
     },
     "execution_count": 15,
     "metadata": {},
     "output_type": "execute_result"
    }
   ],
   "source": [
    "tic2 = time.time()\n",
    "for i, img in enumerate(roi):\n",
    "    gray = cv2.cvtColor(img, cv2.COLOR_BGR2GRAY)\n",
    "    text, _, _ = recognizer.process(gray)\n",
    "    res.append(text)\n",
    "toc2 = time.time()\n",
    "toc2-tic2"
   ]
  },
  {
   "cell_type": "code",
   "execution_count": 16,
   "metadata": {},
   "outputs": [
    {
     "data": {
      "text/plain": [
       "(237, 237, (13, 37, 3))"
      ]
     },
     "execution_count": 16,
     "metadata": {},
     "output_type": "execute_result"
    }
   ],
   "source": [
    "len(res), len(roi), roi[1].shape"
   ]
  },
  {
   "cell_type": "code",
   "execution_count": 17,
   "metadata": {},
   "outputs": [
    {
     "data": {
      "text/plain": [
       "['jas',\n",
       " 'sodhi',\n",
       " 'main',\n",
       " 'pharmacy',\n",
       " 'inc',\n",
       " '1341',\n",
       " 'street',\n",
       " 'west',\n",
       " 'may',\n",
       " '525',\n",
       " 'hamil',\n",
       " 'ton',\n",
       " 'on',\n",
       " 'l8s',\n",
       " '1c6',\n",
       " '905',\n",
       " '1032',\n",
       " '03',\n",
       " '2020',\n",
       " '9003',\n",
       " 'cheerios',\n",
       " '108681',\n",
       " '811',\n",
       " '33333',\n",
       " 'pm',\n",
       " '1460',\n",
       " 'multi',\n",
       " '2',\n",
       " '3',\n",
       " 'pco',\n",
       " 'x',\n",
       " 'nestle',\n",
       " 'juice',\n",
       " 'water',\n",
       " '1',\n",
       " '79',\n",
       " '99',\n",
       " '7',\n",
       " 'x',\n",
       " 'soya',\n",
       " '49',\n",
       " '2',\n",
       " 'bev',\n",
       " '4',\n",
       " '99',\n",
       " 'of',\n",
       " 'a',\n",
       " '7',\n",
       " '39',\n",
       " '5',\n",
       " 'nn',\n",
       " 'foil25',\n",
       " 'silk',\n",
       " 'feet',\n",
       " '9',\n",
       " '1',\n",
       " '49',\n",
       " '1',\n",
       " '26',\n",
       " '5',\n",
       " '2',\n",
       " 'x',\n",
       " 'glad',\n",
       " 'cling',\n",
       " 'wra',\n",
       " '2',\n",
       " '99',\n",
       " '5',\n",
       " 'pc',\n",
       " 'mld',\n",
       " 'ult',\n",
       " 'itln',\n",
       " 'ss',\n",
       " '5',\n",
       " 'dole',\n",
       " 'caesa',\n",
       " 'pco',\n",
       " 'baby',\n",
       " 'spina',\n",
       " '3',\n",
       " '93',\n",
       " '99',\n",
       " '2',\n",
       " '2',\n",
       " 'digital',\n",
       " 'x',\n",
       " 'pco',\n",
       " 'sprgrn',\n",
       " 'sld',\n",
       " '3',\n",
       " '99',\n",
       " '23',\n",
       " 'dole',\n",
       " 'salads',\n",
       " '7',\n",
       " '98',\n",
       " '9',\n",
       " 'digital',\n",
       " 'subtotal',\n",
       " 'offer',\n",
       " '400',\n",
       " 'bonus',\n",
       " '20x',\n",
       " '15390',\n",
       " '54',\n",
       " '05',\n",
       " '15',\n",
       " 'visa',\n",
       " 'items',\n",
       " 'total',\n",
       " 'hst',\n",
       " '0',\n",
       " '55',\n",
       " '97',\n",
       " 'you',\n",
       " 'have',\n",
       " 'saved',\n",
       " '55',\n",
       " '02',\n",
       " '02',\n",
       " 'visit',\n",
       " '10',\n",
       " '20',\n",
       " 'on',\n",
       " 'your',\n",
       " 'next',\n",
       " 'if',\n",
       " 'save',\n",
       " 'messageid',\n",
       " 'you',\n",
       " 'redeem',\n",
       " 'ut',\n",
       " 'to',\n",
       " '40000',\n",
       " 's',\n",
       " '40',\n",
       " 'could',\n",
       " 'points',\n",
       " 'case',\n",
       " 'pc',\n",
       " 'optimum',\n",
       " 'a',\n",
       " 'controllection',\n",
       " 'regular',\n",
       " 'points',\n",
       " '595',\n",
       " '700',\n",
       " 'bonus',\n",
       " 'earned',\n",
       " 'points',\n",
       " '810',\n",
       " 'dogs',\n",
       " 'points',\n",
       " 'today',\n",
       " '15790',\n",
       " '16600',\n",
       " 'current',\n",
       " 'points',\n",
       " 'ld',\n",
       " 'ba',\n",
       " 'you',\n",
       " 'points',\n",
       " 'cou',\n",
       " 'have',\n",
       " 'earned',\n",
       " 'lance',\n",
       " 'additional',\n",
       " 'president',\n",
       " 's',\n",
       " 'choice',\n",
       " 'today',\n",
       " 'financial',\n",
       " 'pc',\n",
       " '45255',\n",
       " 'with',\n",
       " 'optimum',\n",
       " 'mastercard',\n",
       " 'visit',\n",
       " 'pcfinancial',\n",
       " 'apply',\n",
       " 'ca',\n",
       " 'transcends',\n",
       " '81807',\n",
       " '8636',\n",
       " 'rt0001',\n",
       " 'retain',\n",
       " 'visit',\n",
       " 'shoppersd',\n",
       " 'receipt',\n",
       " 'for',\n",
       " 'return',\n",
       " 'within',\n",
       " 'rugmart',\n",
       " 'for',\n",
       " '30',\n",
       " 'ca',\n",
       " 'exc',\n",
       " 'lusions',\n",
       " 'days',\n",
       " 'type',\n",
       " 'purchase',\n",
       " 'acct',\n",
       " 'number',\n",
       " 'visa',\n",
       " '55',\n",
       " '02',\n",
       " 'card',\n",
       " '8074',\n",
       " 'date',\n",
       " 'reference',\n",
       " 'time',\n",
       " '200503',\n",
       " 'i',\n",
       " '66421446',\n",
       " '0017810990',\n",
       " '202121',\n",
       " 'author',\n",
       " 'credit',\n",
       " 'a',\n",
       " '036567',\n",
       " 'h',\n",
       " 'visa',\n",
       " 'a000000000',\n",
       " '31010',\n",
       " 'approved',\n",
       " 'operagement',\n",
       " '01027',\n",
       " 'retain',\n",
       " 'this',\n",
       " 'important',\n",
       " 'thank',\n",
       " 'you',\n",
       " 'eustomer',\n",
       " 'for',\n",
       " 'your',\n",
       " 'records',\n",
       " 'copy']"
      ]
     },
     "execution_count": 17,
     "metadata": {},
     "output_type": "execute_result"
    }
   ],
   "source": [
    "res"
   ]
  },
  {
   "cell_type": "markdown",
   "metadata": {},
   "source": [
    "## YOLOv3-CRNN"
   ]
  },
  {
   "cell_type": "code",
   "execution_count": 2,
   "metadata": {},
   "outputs": [],
   "source": [
    "from tensorflow.keras.layers import *\n",
    "from detection.YOLO.model import *\n",
    "from detection.YOLO.modules.darknet import darknet53\n",
    "from detection.YOLO.modules.receipt_classifier import CBAM_resnet"
   ]
  },
  {
   "cell_type": "code",
   "execution_count": 3,
   "metadata": {},
   "outputs": [],
   "source": [
    "inputs = Input((64,64,3))"
   ]
  },
  {
   "cell_type": "code",
   "execution_count": null,
   "metadata": {},
   "outputs": [],
   "source": [
    "darknet = darknet53(inputs)\n",
    "darknet.output"
   ]
  },
  {
   "cell_type": "code",
   "execution_count": null,
   "metadata": {},
   "outputs": [],
   "source": [
    "cbam = CBAM_resnet(inputs, 5,[64,64])"
   ]
  },
  {
   "cell_type": "code",
   "execution_count": null,
   "metadata": {},
   "outputs": [],
   "source": [
    "# outputs = model(inputs)\n",
    "# model.compile(loss='mse',optimizer='sgd')\n",
    "cbam.output"
   ]
  },
  {
   "cell_type": "code",
   "execution_count": 4,
   "metadata": {},
   "outputs": [],
   "source": [
    "tolo = YOLOv3(inputs, 5)"
   ]
  },
  {
   "cell_type": "code",
   "execution_count": 6,
   "metadata": {},
   "outputs": [
    {
     "data": {
      "text/plain": [
       "[<tf.Tensor 'Reshape:0' shape=(None, None, None, 10, 10) dtype=float32>,\n",
       " <tf.Tensor 'Reshape_1:0' shape=(None, None, None, 10, 10) dtype=float32>,\n",
       " <tf.Tensor 'Reshape_2:0' shape=(None, None, None, 10, 10) dtype=float32>]"
      ]
     },
     "execution_count": 6,
     "metadata": {},
     "output_type": "execute_result"
    }
   ],
   "source": [
    "tolo.outputs"
   ]
  },
  {
   "cell_type": "code",
   "execution_count": null,
   "metadata": {},
   "outputs": [],
   "source": []
  }
 ],
 "metadata": {
  "kernelspec": {
   "display_name": "Python 3",
   "language": "python",
   "name": "python3"
  },
  "language_info": {
   "codemirror_mode": {
    "name": "ipython",
    "version": 3
   },
   "file_extension": ".py",
   "mimetype": "text/x-python",
   "name": "python",
   "nbconvert_exporter": "python",
   "pygments_lexer": "ipython3",
   "version": "3.8.2"
  },
  "varInspector": {
   "cols": {
    "lenName": 16,
    "lenType": 16,
    "lenVar": 40
   },
   "kernels_config": {
    "python": {
     "delete_cmd_postfix": "",
     "delete_cmd_prefix": "del ",
     "library": "var_list.py",
     "varRefreshCmd": "print(var_dic_list())"
    },
    "r": {
     "delete_cmd_postfix": ") ",
     "delete_cmd_prefix": "rm(",
     "library": "var_list.r",
     "varRefreshCmd": "cat(var_dic_list()) "
    }
   },
   "types_to_exclude": [
    "module",
    "function",
    "builtin_function_or_method",
    "instance",
    "_Feature"
   ],
   "window_display": false
  }
 },
 "nbformat": 4,
 "nbformat_minor": 4
}
