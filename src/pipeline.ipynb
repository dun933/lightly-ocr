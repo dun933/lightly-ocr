{
 "cells": [
  {
   "cell_type": "code",
   "execution_count": 1,
   "metadata": {},
   "outputs": [],
   "source": [
    "%load_ext autoreload\n",
    "%reload_ext autoreload\n",
    "%autoreload 2\n",
    "%matplotlib inline"
   ]
  },
  {
   "cell_type": "markdown",
   "metadata": {},
   "source": [
    "## CRAFT-MORAN"
   ]
  },
  {
   "cell_type": "code",
   "execution_count": 2,
   "metadata": {},
   "outputs": [],
   "source": [
    "import cv2\n",
    "import numpy as np\n",
    "import torch\n",
    "import time"
   ]
  },
  {
   "cell_type": "code",
   "execution_count": 4,
   "metadata": {},
   "outputs": [],
   "source": [
    "from detector import CRAFTDetector\n",
    "from recognizer import MORANRecognizer"
   ]
  },
  {
   "cell_type": "code",
   "execution_count": 5,
   "metadata": {},
   "outputs": [
    {
     "name": "stderr",
     "output_type": "stream",
     "text": [
      "/home/aar0npham/.local/lib/python3.8/site-packages/torch/nn/modules/rnn.py:47: UserWarning: dropout option adds dropout after all but last recurrent layer, so non-zero dropout expects num_layers greater than 1, but got dropout=0.3 and num_layers=1\n",
      "  warnings.warn(\"dropout option adds dropout after all but last \"\n"
     ]
    },
    {
     "name": "stdout",
     "output_type": "stream",
     "text": [
      "loading pretrained model from /mnt/Centralized/documents/cs/lightly-ocr/src/models/moran_v2.pth\n"
     ]
    },
    {
     "data": {
      "text/plain": [
       "4.706954002380371"
      ]
     },
     "execution_count": 5,
     "metadata": {},
     "output_type": "execute_result"
    }
   ],
   "source": [
    "tic = time.time()\n",
    "detector = CRAFTDetector()\n",
    "detector.load()\n",
    "recognizer = MORANRecognizer()\n",
    "recognizer.load()\n",
    "toc = time.time()\n",
    "toc-tic"
   ]
  },
  {
   "cell_type": "code",
   "execution_count": 8,
   "metadata": {},
   "outputs": [],
   "source": [
    "img = '../test/test.png'\n",
    "res = []\n",
    "processed = cv2.imread(img)"
   ]
  },
  {
   "cell_type": "code",
   "execution_count": 12,
   "metadata": {},
   "outputs": [
    {
     "data": {
      "text/plain": [
       "0.30816221237182617"
      ]
     },
     "execution_count": 12,
     "metadata": {},
     "output_type": "execute_result"
    }
   ],
   "source": [
    "tic1 = time.time()\n",
    "roi,_,_,_ = detector.process(processed)\n",
    "toc1 = time.time()\n",
    "toc1-tic1"
   ]
  },
  {
   "cell_type": "code",
   "execution_count": 13,
   "metadata": {},
   "outputs": [
    {
     "data": {
      "text/plain": [
       "(698, 334, 3)"
      ]
     },
     "execution_count": 13,
     "metadata": {},
     "output_type": "execute_result"
    }
   ],
   "source": [
    "processed.shape"
   ]
  },
  {
   "cell_type": "code",
   "execution_count": 10,
   "metadata": {},
   "outputs": [
    {
     "data": {
      "text/plain": [
       "(237, (13, 24, 3))"
      ]
     },
     "execution_count": 10,
     "metadata": {},
     "output_type": "execute_result"
    }
   ],
   "source": [
    "len(roi), roi[0].shape"
   ]
  },
  {
   "cell_type": "code",
   "execution_count": 11,
   "metadata": {},
   "outputs": [
    {
     "data": {
      "text/plain": [
       "10.681359052658081"
      ]
     },
     "execution_count": 11,
     "metadata": {},
     "output_type": "execute_result"
    }
   ],
   "source": [
    "tic2 = time.time()\n",
    "for _, img in enumerate(roi):\n",
    "    gray = cv2.cvtColor(img, cv2.COLOR_BGR2GRAY)\n",
    "    text, _, _ = recognizer.process(gray)\n",
    "    res.append(text)\n",
    "toc2 = time.time()\n",
    "toc2-tic2"
   ]
  },
  {
   "cell_type": "code",
   "execution_count": null,
   "metadata": {},
   "outputs": [],
   "source": [
    "len(res)"
   ]
  },
  {
   "cell_type": "code",
   "execution_count": null,
   "metadata": {},
   "outputs": [],
   "source": [
    "res"
   ]
  },
  {
   "cell_type": "code",
   "execution_count": 8,
   "metadata": {},
   "outputs": [],
   "source": [
    "inputs = torch.randn((1, 3, 768, 768), device='cuda')"
   ]
  },
  {
   "cell_type": "code",
   "execution_count": 9,
   "metadata": {},
   "outputs": [
    {
     "data": {
      "text/plain": [
       "torch.Size([1, 3, 768, 768])"
      ]
     },
     "execution_count": 9,
     "metadata": {},
     "output_type": "execute_result"
    }
   ],
   "source": [
    "inputs.shape"
   ]
  },
  {
   "cell_type": "code",
   "execution_count": 10,
   "metadata": {},
   "outputs": [],
   "source": [
    "from convert import *"
   ]
  },
  {
   "cell_type": "code",
   "execution_count": 13,
   "metadata": {},
   "outputs": [
    {
     "name": "stderr",
     "output_type": "stream",
     "text": [
      "/home/aar0npham/.local/lib/python3.8/site-packages/torch/onnx/symbolic_helper.py:242: UserWarning: You are trying to export the model with onnx:Upsample for ONNX opset version 9. This operator might cause results to not match the expected results by PyTorch.\n",
      "ONNX's Upsample/Resize operator did not match Pytorch's Interpolation until opset 11. Attributes to determine how to transform the input were added in onnx:Resize in opset 11 to support Pytorch's behavior (like coordinate_transformation_mode and nearest_mode).\n",
      "We recommend using opset 11 and above for models using this operator. \n",
      "  warnings.warn(\"You are trying to export the model with \" + onnx_op + \" for ONNX opset version \"\n"
     ]
    },
    {
     "name": "stdout",
     "output_type": "stream",
     "text": [
      "graph(%input : Float(1, 3, 768, 768),\n",
      "      %basenet.slice1.0.weight : Float(64, 3, 3, 3),\n",
      "      %basenet.slice1.0.bias : Float(64),\n",
      "      %basenet.slice1.1.weight : Float(64),\n",
      "      %basenet.slice1.1.bias : Float(64),\n",
      "      %basenet.slice1.1.running_mean : Float(64),\n",
      "      %basenet.slice1.1.running_var : Float(64),\n",
      "      %basenet.slice1.3.weight : Float(64, 64, 3, 3),\n",
      "      %basenet.slice1.3.bias : Float(64),\n",
      "      %basenet.slice1.4.weight : Float(64),\n",
      "      %basenet.slice1.4.bias : Float(64),\n",
      "      %basenet.slice1.4.running_mean : Float(64),\n",
      "      %basenet.slice1.4.running_var : Float(64),\n",
      "      %basenet.slice1.7.weight : Float(128, 64, 3, 3),\n",
      "      %basenet.slice1.7.bias : Float(128),\n",
      "      %basenet.slice1.8.weight : Float(128),\n",
      "      %basenet.slice1.8.bias : Float(128),\n",
      "      %basenet.slice1.8.running_mean : Float(128),\n",
      "      %basenet.slice1.8.running_var : Float(128),\n",
      "      %basenet.slice1.10.weight : Float(128, 128, 3, 3),\n",
      "      %basenet.slice1.10.bias : Float(128),\n",
      "      %basenet.slice1.11.weight : Float(128),\n",
      "      %basenet.slice1.11.bias : Float(128),\n",
      "      %basenet.slice1.11.running_mean : Float(128),\n",
      "      %basenet.slice1.11.running_var : Float(128),\n",
      "      %basenet.slice2.14.weight : Float(256, 128, 3, 3),\n",
      "      %basenet.slice2.14.bias : Float(256),\n",
      "      %basenet.slice2.15.weight : Float(256),\n",
      "      %basenet.slice2.15.bias : Float(256),\n",
      "      %basenet.slice2.15.running_mean : Float(256),\n",
      "      %basenet.slice2.15.running_var : Float(256),\n",
      "      %basenet.slice2.17.weight : Float(256, 256, 3, 3),\n",
      "      %basenet.slice2.17.bias : Float(256),\n",
      "      %basenet.slice2.18.weight : Float(256),\n",
      "      %basenet.slice2.18.bias : Float(256),\n",
      "      %basenet.slice2.18.running_mean : Float(256),\n",
      "      %basenet.slice2.18.running_var : Float(256),\n",
      "      %basenet.slice3.20.weight : Float(256, 256, 3, 3),\n",
      "      %basenet.slice3.20.bias : Float(256),\n",
      "      %basenet.slice3.21.weight : Float(256),\n",
      "      %basenet.slice3.21.bias : Float(256),\n",
      "      %basenet.slice3.21.running_mean : Float(256),\n",
      "      %basenet.slice3.21.running_var : Float(256),\n",
      "      %basenet.slice3.24.weight : Float(512, 256, 3, 3),\n",
      "      %basenet.slice3.24.bias : Float(512),\n",
      "      %basenet.slice3.25.weight : Float(512),\n",
      "      %basenet.slice3.25.bias : Float(512),\n",
      "      %basenet.slice3.25.running_mean : Float(512),\n",
      "      %basenet.slice3.25.running_var : Float(512),\n",
      "      %basenet.slice3.27.weight : Float(512, 512, 3, 3),\n",
      "      %basenet.slice3.27.bias : Float(512),\n",
      "      %basenet.slice3.28.weight : Float(512),\n",
      "      %basenet.slice3.28.bias : Float(512),\n",
      "      %basenet.slice3.28.running_mean : Float(512),\n",
      "      %basenet.slice3.28.running_var : Float(512),\n",
      "      %basenet.slice4.30.weight : Float(512, 512, 3, 3),\n",
      "      %basenet.slice4.30.bias : Float(512),\n",
      "      %basenet.slice4.31.weight : Float(512),\n",
      "      %basenet.slice4.31.bias : Float(512),\n",
      "      %basenet.slice4.31.running_mean : Float(512),\n",
      "      %basenet.slice4.31.running_var : Float(512),\n",
      "      %basenet.slice4.34.weight : Float(512, 512, 3, 3),\n",
      "      %basenet.slice4.34.bias : Float(512),\n",
      "      %basenet.slice4.35.weight : Float(512),\n",
      "      %basenet.slice4.35.bias : Float(512),\n",
      "      %basenet.slice4.35.running_mean : Float(512),\n",
      "      %basenet.slice4.35.running_var : Float(512),\n",
      "      %basenet.slice4.37.weight : Float(512, 512, 3, 3),\n",
      "      %basenet.slice4.37.bias : Float(512),\n",
      "      %basenet.slice4.38.weight : Float(512),\n",
      "      %basenet.slice4.38.bias : Float(512),\n",
      "      %basenet.slice4.38.running_mean : Float(512),\n",
      "      %basenet.slice4.38.running_var : Float(512),\n",
      "      %basenet.slice5.1.weight : Float(1024, 512, 3, 3),\n",
      "      %basenet.slice5.1.bias : Float(1024),\n",
      "      %basenet.slice5.2.weight : Float(1024, 1024, 1, 1),\n",
      "      %basenet.slice5.2.bias : Float(1024),\n",
      "      %upconv1.conv.0.weight : Float(512, 1536, 1, 1),\n",
      "      %upconv1.conv.0.bias : Float(512),\n",
      "      %upconv1.conv.1.weight : Float(512),\n",
      "      %upconv1.conv.1.bias : Float(512),\n",
      "      %upconv1.conv.1.running_mean : Float(512),\n",
      "      %upconv1.conv.1.running_var : Float(512),\n",
      "      %upconv1.conv.3.weight : Float(256, 512, 3, 3),\n",
      "      %upconv1.conv.3.bias : Float(256),\n",
      "      %upconv1.conv.4.weight : Float(256),\n",
      "      %upconv1.conv.4.bias : Float(256),\n",
      "      %upconv1.conv.4.running_mean : Float(256),\n",
      "      %upconv1.conv.4.running_var : Float(256),\n",
      "      %upconv2.conv.0.weight : Float(256, 768, 1, 1),\n",
      "      %upconv2.conv.0.bias : Float(256),\n",
      "      %upconv2.conv.1.weight : Float(256),\n",
      "      %upconv2.conv.1.bias : Float(256),\n",
      "      %upconv2.conv.1.running_mean : Float(256),\n",
      "      %upconv2.conv.1.running_var : Float(256),\n",
      "      %upconv2.conv.3.weight : Float(128, 256, 3, 3),\n",
      "      %upconv2.conv.3.bias : Float(128),\n",
      "      %upconv2.conv.4.weight : Float(128),\n",
      "      %upconv2.conv.4.bias : Float(128),\n",
      "      %upconv2.conv.4.running_mean : Float(128),\n",
      "      %upconv2.conv.4.running_var : Float(128),\n",
      "      %upconv3.conv.0.weight : Float(128, 384, 1, 1),\n",
      "      %upconv3.conv.0.bias : Float(128),\n",
      "      %upconv3.conv.1.weight : Float(128),\n",
      "      %upconv3.conv.1.bias : Float(128),\n",
      "      %upconv3.conv.1.running_mean : Float(128),\n",
      "      %upconv3.conv.1.running_var : Float(128),\n",
      "      %upconv3.conv.3.weight : Float(64, 128, 3, 3),\n",
      "      %upconv3.conv.3.bias : Float(64),\n",
      "      %upconv3.conv.4.weight : Float(64),\n",
      "      %upconv3.conv.4.bias : Float(64),\n",
      "      %upconv3.conv.4.running_mean : Float(64),\n",
      "      %upconv3.conv.4.running_var : Float(64),\n",
      "      %upconv4.conv.0.weight : Float(64, 192, 1, 1),\n",
      "      %upconv4.conv.0.bias : Float(64),\n",
      "      %upconv4.conv.1.weight : Float(64),\n",
      "      %upconv4.conv.1.bias : Float(64),\n",
      "      %upconv4.conv.1.running_mean : Float(64),\n",
      "      %upconv4.conv.1.running_var : Float(64),\n",
      "      %upconv4.conv.3.weight : Float(32, 64, 3, 3),\n",
      "      %upconv4.conv.3.bias : Float(32),\n",
      "      %upconv4.conv.4.weight : Float(32),\n",
      "      %upconv4.conv.4.bias : Float(32),\n",
      "      %upconv4.conv.4.running_mean : Float(32),\n",
      "      %upconv4.conv.4.running_var : Float(32),\n",
      "      %conv_cls.0.weight : Float(32, 32, 3, 3),\n",
      "      %conv_cls.0.bias : Float(32),\n",
      "      %conv_cls.2.weight : Float(32, 32, 3, 3),\n",
      "      %conv_cls.2.bias : Float(32),\n",
      "      %conv_cls.4.weight : Float(16, 32, 3, 3),\n",
      "      %conv_cls.4.bias : Float(16),\n",
      "      %conv_cls.6.weight : Float(16, 16, 1, 1),\n",
      "      %conv_cls.6.bias : Float(16),\n",
      "      %conv_cls.8.weight : Float(2, 16, 1, 1),\n",
      "      %conv_cls.8.bias : Float(2)):\n",
      "  %155 : Float(1, 64, 768, 768) = onnx::Conv[dilations=[1, 1], group=1, kernel_shape=[3, 3], pads=[1, 1, 1, 1], strides=[1, 1]](%input, %basenet.slice1.0.weight, %basenet.slice1.0.bias) # /home/aar0npham/.local/lib/python3.8/site-packages/torch/nn/modules/conv.py:345:0\n",
      "  %156 : Float(1, 64, 768, 768) = onnx::BatchNormalization[epsilon=1.0000000000000001e-05, momentum=0.90000000000000002](%155, %basenet.slice1.1.weight, %basenet.slice1.1.bias, %basenet.slice1.1.running_mean, %basenet.slice1.1.running_var) # /home/aar0npham/.local/lib/python3.8/site-packages/torch/nn/functional.py:1921:0\n",
      "  %157 : Float(1, 64, 768, 768) = onnx::Relu(%156) # /home/aar0npham/.local/lib/python3.8/site-packages/torch/nn/functional.py:1061:0\n",
      "  %158 : Float(1, 64, 768, 768) = onnx::Conv[dilations=[1, 1], group=1, kernel_shape=[3, 3], pads=[1, 1, 1, 1], strides=[1, 1]](%157, %basenet.slice1.3.weight, %basenet.slice1.3.bias) # /home/aar0npham/.local/lib/python3.8/site-packages/torch/nn/modules/conv.py:345:0\n",
      "  %159 : Float(1, 64, 768, 768) = onnx::BatchNormalization[epsilon=1.0000000000000001e-05, momentum=0.90000000000000002](%158, %basenet.slice1.4.weight, %basenet.slice1.4.bias, %basenet.slice1.4.running_mean, %basenet.slice1.4.running_var) # /home/aar0npham/.local/lib/python3.8/site-packages/torch/nn/functional.py:1921:0\n",
      "  %160 : Float(1, 64, 768, 768) = onnx::Relu(%159) # /home/aar0npham/.local/lib/python3.8/site-packages/torch/nn/functional.py:1061:0\n",
      "  %161 : Float(1, 64, 384, 384) = onnx::MaxPool[kernel_shape=[2, 2], pads=[0, 0, 0, 0], strides=[2, 2]](%160) # /home/aar0npham/.local/lib/python3.8/site-packages/torch/nn/functional.py:538:0\n",
      "  %162 : Float(1, 128, 384, 384) = onnx::Conv[dilations=[1, 1], group=1, kernel_shape=[3, 3], pads=[1, 1, 1, 1], strides=[1, 1]](%161, %basenet.slice1.7.weight, %basenet.slice1.7.bias) # /home/aar0npham/.local/lib/python3.8/site-packages/torch/nn/modules/conv.py:345:0\n",
      "  %163 : Float(1, 128, 384, 384) = onnx::BatchNormalization[epsilon=1.0000000000000001e-05, momentum=0.90000000000000002](%162, %basenet.slice1.8.weight, %basenet.slice1.8.bias, %basenet.slice1.8.running_mean, %basenet.slice1.8.running_var) # /home/aar0npham/.local/lib/python3.8/site-packages/torch/nn/functional.py:1921:0\n",
      "  %164 : Float(1, 128, 384, 384) = onnx::Relu(%163) # /home/aar0npham/.local/lib/python3.8/site-packages/torch/nn/functional.py:1061:0\n",
      "  %165 : Float(1, 128, 384, 384) = onnx::Conv[dilations=[1, 1], group=1, kernel_shape=[3, 3], pads=[1, 1, 1, 1], strides=[1, 1]](%164, %basenet.slice1.10.weight, %basenet.slice1.10.bias) # /home/aar0npham/.local/lib/python3.8/site-packages/torch/nn/modules/conv.py:345:0\n",
      "  %166 : Float(1, 128, 384, 384) = onnx::BatchNormalization[epsilon=1.0000000000000001e-05, momentum=0.90000000000000002](%165, %basenet.slice1.11.weight, %basenet.slice1.11.bias, %basenet.slice1.11.running_mean, %basenet.slice1.11.running_var) # /home/aar0npham/.local/lib/python3.8/site-packages/torch/nn/functional.py:1921:0\n",
      "  %167 : Float(1, 128, 384, 384) = onnx::Relu(%166) # /home/aar0npham/.local/lib/python3.8/site-packages/torch/nn/functional.py:1061:0\n",
      "  %168 : Float(1, 128, 192, 192) = onnx::MaxPool[kernel_shape=[2, 2], pads=[0, 0, 0, 0], strides=[2, 2]](%167) # /home/aar0npham/.local/lib/python3.8/site-packages/torch/nn/functional.py:538:0\n",
      "  %169 : Float(1, 256, 192, 192) = onnx::Conv[dilations=[1, 1], group=1, kernel_shape=[3, 3], pads=[1, 1, 1, 1], strides=[1, 1]](%168, %basenet.slice2.14.weight, %basenet.slice2.14.bias) # /home/aar0npham/.local/lib/python3.8/site-packages/torch/nn/modules/conv.py:345:0\n",
      "  %170 : Float(1, 256, 192, 192) = onnx::BatchNormalization[epsilon=1.0000000000000001e-05, momentum=0.90000000000000002](%169, %basenet.slice2.15.weight, %basenet.slice2.15.bias, %basenet.slice2.15.running_mean, %basenet.slice2.15.running_var) # /home/aar0npham/.local/lib/python3.8/site-packages/torch/nn/functional.py:1921:0\n",
      "  %171 : Float(1, 256, 192, 192) = onnx::Relu(%170) # /home/aar0npham/.local/lib/python3.8/site-packages/torch/nn/functional.py:1061:0\n",
      "  %172 : Float(1, 256, 192, 192) = onnx::Conv[dilations=[1, 1], group=1, kernel_shape=[3, 3], pads=[1, 1, 1, 1], strides=[1, 1]](%171, %basenet.slice2.17.weight, %basenet.slice2.17.bias) # /home/aar0npham/.local/lib/python3.8/site-packages/torch/nn/modules/conv.py:345:0\n",
      "  %173 : Float(1, 256, 192, 192) = onnx::BatchNormalization[epsilon=1.0000000000000001e-05, momentum=0.90000000000000002](%172, %basenet.slice2.18.weight, %basenet.slice2.18.bias, %basenet.slice2.18.running_mean, %basenet.slice2.18.running_var) # /home/aar0npham/.local/lib/python3.8/site-packages/torch/nn/functional.py:1921:0\n",
      "  %174 : Float(1, 256, 192, 192) = onnx::Relu(%173) # /home/aar0npham/.local/lib/python3.8/site-packages/torch/nn/functional.py:1061:0\n",
      "  %175 : Float(1, 256, 192, 192) = onnx::Conv[dilations=[1, 1], group=1, kernel_shape=[3, 3], pads=[1, 1, 1, 1], strides=[1, 1]](%174, %basenet.slice3.20.weight, %basenet.slice3.20.bias) # /home/aar0npham/.local/lib/python3.8/site-packages/torch/nn/modules/conv.py:345:0\n",
      "  %176 : Float(1, 256, 192, 192) = onnx::BatchNormalization[epsilon=1.0000000000000001e-05, momentum=0.90000000000000002](%175, %basenet.slice3.21.weight, %basenet.slice3.21.bias, %basenet.slice3.21.running_mean, %basenet.slice3.21.running_var) # /home/aar0npham/.local/lib/python3.8/site-packages/torch/nn/functional.py:1921:0\n",
      "  %177 : Float(1, 256, 192, 192) = onnx::Relu(%176) # /home/aar0npham/.local/lib/python3.8/site-packages/torch/nn/functional.py:1061:0\n",
      "  %178 : Float(1, 256, 96, 96) = onnx::MaxPool[kernel_shape=[2, 2], pads=[0, 0, 0, 0], strides=[2, 2]](%177) # /home/aar0npham/.local/lib/python3.8/site-packages/torch/nn/functional.py:538:0\n",
      "  %179 : Float(1, 512, 96, 96) = onnx::Conv[dilations=[1, 1], group=1, kernel_shape=[3, 3], pads=[1, 1, 1, 1], strides=[1, 1]](%178, %basenet.slice3.24.weight, %basenet.slice3.24.bias) # /home/aar0npham/.local/lib/python3.8/site-packages/torch/nn/modules/conv.py:345:0\n",
      "  %180 : Float(1, 512, 96, 96) = onnx::BatchNormalization[epsilon=1.0000000000000001e-05, momentum=0.90000000000000002](%179, %basenet.slice3.25.weight, %basenet.slice3.25.bias, %basenet.slice3.25.running_mean, %basenet.slice3.25.running_var) # /home/aar0npham/.local/lib/python3.8/site-packages/torch/nn/functional.py:1921:0\n",
      "  %181 : Float(1, 512, 96, 96) = onnx::Relu(%180) # /home/aar0npham/.local/lib/python3.8/site-packages/torch/nn/functional.py:1061:0\n",
      "  %182 : Float(1, 512, 96, 96) = onnx::Conv[dilations=[1, 1], group=1, kernel_shape=[3, 3], pads=[1, 1, 1, 1], strides=[1, 1]](%181, %basenet.slice3.27.weight, %basenet.slice3.27.bias) # /home/aar0npham/.local/lib/python3.8/site-packages/torch/nn/modules/conv.py:345:0\n",
      "  %183 : Float(1, 512, 96, 96) = onnx::BatchNormalization[epsilon=1.0000000000000001e-05, momentum=0.90000000000000002](%182, %basenet.slice3.28.weight, %basenet.slice3.28.bias, %basenet.slice3.28.running_mean, %basenet.slice3.28.running_var) # /home/aar0npham/.local/lib/python3.8/site-packages/torch/nn/functional.py:1921:0\n",
      "  %184 : Float(1, 512, 96, 96) = onnx::Relu(%183) # /home/aar0npham/.local/lib/python3.8/site-packages/torch/nn/functional.py:1061:0\n",
      "  %185 : Float(1, 512, 96, 96) = onnx::Conv[dilations=[1, 1], group=1, kernel_shape=[3, 3], pads=[1, 1, 1, 1], strides=[1, 1]](%184, %basenet.slice4.30.weight, %basenet.slice4.30.bias) # /home/aar0npham/.local/lib/python3.8/site-packages/torch/nn/modules/conv.py:345:0\n",
      "  %186 : Float(1, 512, 96, 96) = onnx::BatchNormalization[epsilon=1.0000000000000001e-05, momentum=0.90000000000000002](%185, %basenet.slice4.31.weight, %basenet.slice4.31.bias, %basenet.slice4.31.running_mean, %basenet.slice4.31.running_var) # /home/aar0npham/.local/lib/python3.8/site-packages/torch/nn/functional.py:1921:0\n",
      "  %187 : Float(1, 512, 96, 96) = onnx::Relu(%186) # /home/aar0npham/.local/lib/python3.8/site-packages/torch/nn/functional.py:1061:0\n",
      "  %188 : Float(1, 512, 48, 48) = onnx::MaxPool[kernel_shape=[2, 2], pads=[0, 0, 0, 0], strides=[2, 2]](%187) # /home/aar0npham/.local/lib/python3.8/site-packages/torch/nn/functional.py:538:0\n",
      "  %189 : Float(1, 512, 48, 48) = onnx::Conv[dilations=[1, 1], group=1, kernel_shape=[3, 3], pads=[1, 1, 1, 1], strides=[1, 1]](%188, %basenet.slice4.34.weight, %basenet.slice4.34.bias) # /home/aar0npham/.local/lib/python3.8/site-packages/torch/nn/modules/conv.py:345:0\n",
      "  %190 : Float(1, 512, 48, 48) = onnx::BatchNormalization[epsilon=1.0000000000000001e-05, momentum=0.90000000000000002](%189, %basenet.slice4.35.weight, %basenet.slice4.35.bias, %basenet.slice4.35.running_mean, %basenet.slice4.35.running_var) # /home/aar0npham/.local/lib/python3.8/site-packages/torch/nn/functional.py:1921:0\n",
      "  %191 : Float(1, 512, 48, 48) = onnx::Relu(%190) # /home/aar0npham/.local/lib/python3.8/site-packages/torch/nn/functional.py:1061:0\n",
      "  %192 : Float(1, 512, 48, 48) = onnx::Conv[dilations=[1, 1], group=1, kernel_shape=[3, 3], pads=[1, 1, 1, 1], strides=[1, 1]](%191, %basenet.slice4.37.weight, %basenet.slice4.37.bias) # /home/aar0npham/.local/lib/python3.8/site-packages/torch/nn/modules/conv.py:345:0\n",
      "  %193 : Float(1, 512, 48, 48) = onnx::BatchNormalization[epsilon=1.0000000000000001e-05, momentum=0.90000000000000002](%192, %basenet.slice4.38.weight, %basenet.slice4.38.bias, %basenet.slice4.38.running_mean, %basenet.slice4.38.running_var) # /home/aar0npham/.local/lib/python3.8/site-packages/torch/nn/functional.py:1921:0\n",
      "  %194 : Float(1, 512, 48, 48) = onnx::MaxPool[kernel_shape=[3, 3], pads=[1, 1, 1, 1], strides=[1, 1]](%193) # /home/aar0npham/.local/lib/python3.8/site-packages/torch/nn/functional.py:538:0\n",
      "  %195 : Float(1, 1024, 48, 48) = onnx::Conv[dilations=[6, 6], group=1, kernel_shape=[3, 3], pads=[6, 6, 6, 6], strides=[1, 1]](%194, %basenet.slice5.1.weight, %basenet.slice5.1.bias) # /home/aar0npham/.local/lib/python3.8/site-packages/torch/nn/modules/conv.py:345:0\n",
      "  %196 : Float(1, 1024, 48, 48) = onnx::Conv[dilations=[1, 1], group=1, kernel_shape=[1, 1], pads=[0, 0, 0, 0], strides=[1, 1]](%195, %basenet.slice5.2.weight, %basenet.slice5.2.bias) # /home/aar0npham/.local/lib/python3.8/site-packages/torch/nn/modules/conv.py:345:0\n",
      "  %197 : Float(1, 1536, 48, 48) = onnx::Concat[axis=1](%196, %193) # /mnt/Centralized/documents/cs/lightly-ocr/src/detection/CRAFT/model.py:57:0\n",
      "  %198 : Float(1, 512, 48, 48) = onnx::Conv[dilations=[1, 1], group=1, kernel_shape=[1, 1], pads=[0, 0, 0, 0], strides=[1, 1]](%197, %upconv1.conv.0.weight, %upconv1.conv.0.bias) # /home/aar0npham/.local/lib/python3.8/site-packages/torch/nn/modules/conv.py:345:0\n",
      "  %199 : Float(1, 512, 48, 48) = onnx::BatchNormalization[epsilon=1.0000000000000001e-05, momentum=0.90000000000000002](%198, %upconv1.conv.1.weight, %upconv1.conv.1.bias, %upconv1.conv.1.running_mean, %upconv1.conv.1.running_var) # /home/aar0npham/.local/lib/python3.8/site-packages/torch/nn/functional.py:1921:0\n",
      "  %200 : Float(1, 512, 48, 48) = onnx::Relu(%199) # /home/aar0npham/.local/lib/python3.8/site-packages/torch/nn/functional.py:1061:0\n",
      "  %201 : Float(1, 256, 48, 48) = onnx::Conv[dilations=[1, 1], group=1, kernel_shape=[3, 3], pads=[1, 1, 1, 1], strides=[1, 1]](%200, %upconv1.conv.3.weight, %upconv1.conv.3.bias) # /home/aar0npham/.local/lib/python3.8/site-packages/torch/nn/modules/conv.py:345:0\n",
      "  %202 : Float(1, 256, 48, 48) = onnx::BatchNormalization[epsilon=1.0000000000000001e-05, momentum=0.90000000000000002](%201, %upconv1.conv.4.weight, %upconv1.conv.4.bias, %upconv1.conv.4.running_mean, %upconv1.conv.4.running_var) # /home/aar0npham/.local/lib/python3.8/site-packages/torch/nn/functional.py:1921:0\n",
      "  %203 : Float(1, 256, 48, 48) = onnx::Relu(%202) # /home/aar0npham/.local/lib/python3.8/site-packages/torch/nn/functional.py:1061:0\n",
      "  %204 : Tensor = onnx::Shape(%184)\n",
      "  %205 : Tensor = onnx::Constant[value={2}]()\n",
      "  %206 : Long() = onnx::Gather[axis=0](%204, %205) # /mnt/Centralized/documents/cs/lightly-ocr/src/detection/CRAFT/model.py:60:0\n",
      "  %207 : Tensor = onnx::Shape(%184)\n",
      "  %208 : Tensor = onnx::Constant[value={3}]()\n",
      "  %209 : Long() = onnx::Gather[axis=0](%207, %208) # /mnt/Centralized/documents/cs/lightly-ocr/src/detection/CRAFT/model.py:60:0\n",
      "  %210 : Tensor = onnx::Unsqueeze[axes=[0]](%206)\n",
      "  %211 : Tensor = onnx::Unsqueeze[axes=[0]](%209)\n",
      "  %212 : Tensor = onnx::Concat[axis=0](%210, %211)\n",
      "  %213 : Tensor = onnx::Constant[value= 1  1 [ CPUFloatType{2} ]]()\n",
      "  %214 : Tensor = onnx::Cast[to=1](%212)\n",
      "  %215 : Tensor = onnx::Shape(%203)\n",
      "  %216 : Tensor = onnx::Slice[axes=[0], ends=[9223372036854775807], starts=[2]](%215)\n",
      "  %217 : Tensor = onnx::Cast[to=1](%216)\n",
      "  %218 : Tensor = onnx::Div(%214, %217)\n",
      "  %219 : Tensor = onnx::Concat[axis=0](%213, %218)\n",
      "  %220 : Float(1, 256, 96, 96) = onnx::Upsample[mode=\"linear\"](%203, %219) # /home/aar0npham/.local/lib/python3.8/site-packages/torch/nn/functional.py:3012:0\n",
      "  %221 : Float(1, 768, 96, 96) = onnx::Concat[axis=1](%220, %184) # /mnt/Centralized/documents/cs/lightly-ocr/src/detection/CRAFT/model.py:61:0\n",
      "  %222 : Float(1, 256, 96, 96) = onnx::Conv[dilations=[1, 1], group=1, kernel_shape=[1, 1], pads=[0, 0, 0, 0], strides=[1, 1]](%221, %upconv2.conv.0.weight, %upconv2.conv.0.bias) # /home/aar0npham/.local/lib/python3.8/site-packages/torch/nn/modules/conv.py:345:0\n",
      "  %223 : Float(1, 256, 96, 96) = onnx::BatchNormalization[epsilon=1.0000000000000001e-05, momentum=0.90000000000000002](%222, %upconv2.conv.1.weight, %upconv2.conv.1.bias, %upconv2.conv.1.running_mean, %upconv2.conv.1.running_var) # /home/aar0npham/.local/lib/python3.8/site-packages/torch/nn/functional.py:1921:0\n",
      "  %224 : Float(1, 256, 96, 96) = onnx::Relu(%223) # /home/aar0npham/.local/lib/python3.8/site-packages/torch/nn/functional.py:1061:0\n",
      "  %225 : Float(1, 128, 96, 96) = onnx::Conv[dilations=[1, 1], group=1, kernel_shape=[3, 3], pads=[1, 1, 1, 1], strides=[1, 1]](%224, %upconv2.conv.3.weight, %upconv2.conv.3.bias) # /home/aar0npham/.local/lib/python3.8/site-packages/torch/nn/modules/conv.py:345:0\n",
      "  %226 : Float(1, 128, 96, 96) = onnx::BatchNormalization[epsilon=1.0000000000000001e-05, momentum=0.90000000000000002](%225, %upconv2.conv.4.weight, %upconv2.conv.4.bias, %upconv2.conv.4.running_mean, %upconv2.conv.4.running_var) # /home/aar0npham/.local/lib/python3.8/site-packages/torch/nn/functional.py:1921:0\n",
      "  %227 : Float(1, 128, 96, 96) = onnx::Relu(%226) # /home/aar0npham/.local/lib/python3.8/site-packages/torch/nn/functional.py:1061:0\n",
      "  %228 : Tensor = onnx::Shape(%174)\n",
      "  %229 : Tensor = onnx::Constant[value={2}]()\n",
      "  %230 : Long() = onnx::Gather[axis=0](%228, %229) # /mnt/Centralized/documents/cs/lightly-ocr/src/detection/CRAFT/model.py:64:0\n",
      "  %231 : Tensor = onnx::Shape(%174)\n",
      "  %232 : Tensor = onnx::Constant[value={3}]()\n",
      "  %233 : Long() = onnx::Gather[axis=0](%231, %232) # /mnt/Centralized/documents/cs/lightly-ocr/src/detection/CRAFT/model.py:64:0\n",
      "  %234 : Tensor = onnx::Unsqueeze[axes=[0]](%230)\n",
      "  %235 : Tensor = onnx::Unsqueeze[axes=[0]](%233)\n",
      "  %236 : Tensor = onnx::Concat[axis=0](%234, %235)\n",
      "  %237 : Tensor = onnx::Constant[value= 1  1 [ CPUFloatType{2} ]]()\n",
      "  %238 : Tensor = onnx::Cast[to=1](%236)\n",
      "  %239 : Tensor = onnx::Shape(%227)\n",
      "  %240 : Tensor = onnx::Slice[axes=[0], ends=[9223372036854775807], starts=[2]](%239)\n",
      "  %241 : Tensor = onnx::Cast[to=1](%240)\n",
      "  %242 : Tensor = onnx::Div(%238, %241)\n",
      "  %243 : Tensor = onnx::Concat[axis=0](%237, %242)\n",
      "  %244 : Float(1, 128, 192, 192) = onnx::Upsample[mode=\"linear\"](%227, %243) # /home/aar0npham/.local/lib/python3.8/site-packages/torch/nn/functional.py:3012:0\n",
      "  %245 : Float(1, 384, 192, 192) = onnx::Concat[axis=1](%244, %174) # /mnt/Centralized/documents/cs/lightly-ocr/src/detection/CRAFT/model.py:65:0\n",
      "  %246 : Float(1, 128, 192, 192) = onnx::Conv[dilations=[1, 1], group=1, kernel_shape=[1, 1], pads=[0, 0, 0, 0], strides=[1, 1]](%245, %upconv3.conv.0.weight, %upconv3.conv.0.bias) # /home/aar0npham/.local/lib/python3.8/site-packages/torch/nn/modules/conv.py:345:0\n",
      "  %247 : Float(1, 128, 192, 192) = onnx::BatchNormalization[epsilon=1.0000000000000001e-05, momentum=0.90000000000000002](%246, %upconv3.conv.1.weight, %upconv3.conv.1.bias, %upconv3.conv.1.running_mean, %upconv3.conv.1.running_var) # /home/aar0npham/.local/lib/python3.8/site-packages/torch/nn/functional.py:1921:0\n",
      "  %248 : Float(1, 128, 192, 192) = onnx::Relu(%247) # /home/aar0npham/.local/lib/python3.8/site-packages/torch/nn/functional.py:1061:0\n",
      "  %249 : Float(1, 64, 192, 192) = onnx::Conv[dilations=[1, 1], group=1, kernel_shape=[3, 3], pads=[1, 1, 1, 1], strides=[1, 1]](%248, %upconv3.conv.3.weight, %upconv3.conv.3.bias) # /home/aar0npham/.local/lib/python3.8/site-packages/torch/nn/modules/conv.py:345:0\n",
      "  %250 : Float(1, 64, 192, 192) = onnx::BatchNormalization[epsilon=1.0000000000000001e-05, momentum=0.90000000000000002](%249, %upconv3.conv.4.weight, %upconv3.conv.4.bias, %upconv3.conv.4.running_mean, %upconv3.conv.4.running_var) # /home/aar0npham/.local/lib/python3.8/site-packages/torch/nn/functional.py:1921:0\n",
      "  %251 : Float(1, 64, 192, 192) = onnx::Relu(%250) # /home/aar0npham/.local/lib/python3.8/site-packages/torch/nn/functional.py:1061:0\n",
      "  %252 : Tensor = onnx::Shape(%167)\n",
      "  %253 : Tensor = onnx::Constant[value={2}]()\n",
      "  %254 : Long() = onnx::Gather[axis=0](%252, %253) # /mnt/Centralized/documents/cs/lightly-ocr/src/detection/CRAFT/model.py:68:0\n",
      "  %255 : Tensor = onnx::Shape(%167)\n",
      "  %256 : Tensor = onnx::Constant[value={3}]()\n",
      "  %257 : Long() = onnx::Gather[axis=0](%255, %256) # /mnt/Centralized/documents/cs/lightly-ocr/src/detection/CRAFT/model.py:68:0\n",
      "  %258 : Tensor = onnx::Unsqueeze[axes=[0]](%254)\n",
      "  %259 : Tensor = onnx::Unsqueeze[axes=[0]](%257)\n",
      "  %260 : Tensor = onnx::Concat[axis=0](%258, %259)\n",
      "  %261 : Tensor = onnx::Constant[value= 1  1 [ CPUFloatType{2} ]]()\n",
      "  %262 : Tensor = onnx::Cast[to=1](%260)\n",
      "  %263 : Tensor = onnx::Shape(%251)\n",
      "  %264 : Tensor = onnx::Slice[axes=[0], ends=[9223372036854775807], starts=[2]](%263)\n",
      "  %265 : Tensor = onnx::Cast[to=1](%264)\n",
      "  %266 : Tensor = onnx::Div(%262, %265)\n",
      "  %267 : Tensor = onnx::Concat[axis=0](%261, %266)\n",
      "  %268 : Float(1, 64, 384, 384) = onnx::Upsample[mode=\"linear\"](%251, %267) # /home/aar0npham/.local/lib/python3.8/site-packages/torch/nn/functional.py:3012:0\n",
      "  %269 : Float(1, 192, 384, 384) = onnx::Concat[axis=1](%268, %167) # /mnt/Centralized/documents/cs/lightly-ocr/src/detection/CRAFT/model.py:69:0\n",
      "  %270 : Float(1, 64, 384, 384) = onnx::Conv[dilations=[1, 1], group=1, kernel_shape=[1, 1], pads=[0, 0, 0, 0], strides=[1, 1]](%269, %upconv4.conv.0.weight, %upconv4.conv.0.bias) # /home/aar0npham/.local/lib/python3.8/site-packages/torch/nn/modules/conv.py:345:0\n",
      "  %271 : Float(1, 64, 384, 384) = onnx::BatchNormalization[epsilon=1.0000000000000001e-05, momentum=0.90000000000000002](%270, %upconv4.conv.1.weight, %upconv4.conv.1.bias, %upconv4.conv.1.running_mean, %upconv4.conv.1.running_var) # /home/aar0npham/.local/lib/python3.8/site-packages/torch/nn/functional.py:1921:0\n",
      "  %272 : Float(1, 64, 384, 384) = onnx::Relu(%271) # /home/aar0npham/.local/lib/python3.8/site-packages/torch/nn/functional.py:1061:0\n",
      "  %273 : Float(1, 32, 384, 384) = onnx::Conv[dilations=[1, 1], group=1, kernel_shape=[3, 3], pads=[1, 1, 1, 1], strides=[1, 1]](%272, %upconv4.conv.3.weight, %upconv4.conv.3.bias) # /home/aar0npham/.local/lib/python3.8/site-packages/torch/nn/modules/conv.py:345:0\n",
      "  %274 : Float(1, 32, 384, 384) = onnx::BatchNormalization[epsilon=1.0000000000000001e-05, momentum=0.90000000000000002](%273, %upconv4.conv.4.weight, %upconv4.conv.4.bias, %upconv4.conv.4.running_mean, %upconv4.conv.4.running_var) # /home/aar0npham/.local/lib/python3.8/site-packages/torch/nn/functional.py:1921:0\n",
      "  %275 : Float(1, 32, 384, 384) = onnx::Relu(%274) # /home/aar0npham/.local/lib/python3.8/site-packages/torch/nn/functional.py:1061:0\n",
      "  %276 : Float(1, 32, 384, 384) = onnx::Conv[dilations=[1, 1], group=1, kernel_shape=[3, 3], pads=[1, 1, 1, 1], strides=[1, 1]](%275, %conv_cls.0.weight, %conv_cls.0.bias) # /home/aar0npham/.local/lib/python3.8/site-packages/torch/nn/modules/conv.py:345:0\n",
      "  %277 : Float(1, 32, 384, 384) = onnx::Relu(%276) # /home/aar0npham/.local/lib/python3.8/site-packages/torch/nn/functional.py:1061:0\n",
      "  %278 : Float(1, 32, 384, 384) = onnx::Conv[dilations=[1, 1], group=1, kernel_shape=[3, 3], pads=[1, 1, 1, 1], strides=[1, 1]](%277, %conv_cls.2.weight, %conv_cls.2.bias) # /home/aar0npham/.local/lib/python3.8/site-packages/torch/nn/modules/conv.py:345:0\n",
      "  %279 : Float(1, 32, 384, 384) = onnx::Relu(%278) # /home/aar0npham/.local/lib/python3.8/site-packages/torch/nn/functional.py:1061:0\n",
      "  %280 : Float(1, 16, 384, 384) = onnx::Conv[dilations=[1, 1], group=1, kernel_shape=[3, 3], pads=[1, 1, 1, 1], strides=[1, 1]](%279, %conv_cls.4.weight, %conv_cls.4.bias) # /home/aar0npham/.local/lib/python3.8/site-packages/torch/nn/modules/conv.py:345:0\n",
      "  %281 : Float(1, 16, 384, 384) = onnx::Relu(%280) # /home/aar0npham/.local/lib/python3.8/site-packages/torch/nn/functional.py:1061:0\n",
      "  %282 : Float(1, 16, 384, 384) = onnx::Conv[dilations=[1, 1], group=1, kernel_shape=[1, 1], pads=[0, 0, 0, 0], strides=[1, 1]](%281, %conv_cls.6.weight, %conv_cls.6.bias) # /home/aar0npham/.local/lib/python3.8/site-packages/torch/nn/modules/conv.py:345:0\n",
      "  %283 : Float(1, 16, 384, 384) = onnx::Relu(%282) # /home/aar0npham/.local/lib/python3.8/site-packages/torch/nn/functional.py:1061:0\n",
      "  %284 : Float(1, 2, 384, 384) = onnx::Conv[dilations=[1, 1], group=1, kernel_shape=[1, 1], pads=[0, 0, 0, 0], strides=[1, 1]](%283, %conv_cls.8.weight, %conv_cls.8.bias) # /home/aar0npham/.local/lib/python3.8/site-packages/torch/nn/modules/conv.py:345:0\n",
      "  %output : Float(1, 384, 384, 2) = onnx::Transpose[perm=[0, 2, 3, 1]](%284) # /mnt/Centralized/documents/cs/lightly-ocr/src/detection/CRAFT/model.py:74:0\n",
      "  return (%output, %275)\n",
      "\n"
     ]
    }
   ],
   "source": [
    "torch2onnx(cuda=True)"
   ]
  },
  {
   "cell_type": "markdown",
   "metadata": {},
   "source": [
    "## YOLOv3-CRNN"
   ]
  },
  {
   "cell_type": "code",
   "execution_count": null,
   "metadata": {},
   "outputs": [],
   "source": []
  },
  {
   "cell_type": "code",
   "execution_count": null,
   "metadata": {},
   "outputs": [],
   "source": []
  }
 ],
 "metadata": {
  "kernelspec": {
   "display_name": "Python 3",
   "language": "python",
   "name": "python3"
  },
  "varInspector": {
   "cols": {
    "lenName": 16,
    "lenType": 16,
    "lenVar": 40
   },
   "kernels_config": {
    "python": {
     "delete_cmd_postfix": "",
     "delete_cmd_prefix": "del ",
     "library": "var_list.py",
     "varRefreshCmd": "print(var_dic_list())"
    },
    "r": {
     "delete_cmd_postfix": ") ",
     "delete_cmd_prefix": "rm(",
     "library": "var_list.r",
     "varRefreshCmd": "cat(var_dic_list()) "
    }
   },
   "types_to_exclude": [
    "module",
    "function",
    "builtin_function_or_method",
    "instance",
    "_Feature"
   ],
   "window_display": false
  }
 },
 "nbformat": 4,
 "nbformat_minor": 4
}
