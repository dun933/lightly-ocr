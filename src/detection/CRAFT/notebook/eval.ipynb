{
 "cells": [
  {
   "cell_type": "code",
   "execution_count": 1,
   "metadata": {},
   "outputs": [],
   "source": [
    "%load_ext autoreload\n",
    "%reload_ext autoreload\n",
    "%matplotlib inline"
   ]
  },
  {
   "cell_type": "code",
   "execution_count": 2,
   "metadata": {},
   "outputs": [],
   "source": [
    "from CRAFT import CRAFT\n",
    "import torch\n",
    "import numpy as np\n",
    "import cv2"
   ]
  },
  {
   "cell_type": "code",
   "execution_count": 3,
   "metadata": {},
   "outputs": [],
   "source": [
    "device = torch.device('cuda' if torch.cuda.is_available() else 'cpu')"
   ]
  },
  {
   "cell_type": "code",
   "execution_count": 4,
   "metadata": {},
   "outputs": [],
   "source": [
    "model = CRAFT(pretrained=True).to(device)\n",
    "region, affinity = model(torch.randn(1,3,768,768).cuda())"
   ]
  },
  {
   "cell_type": "code",
   "execution_count": 5,
   "metadata": {},
   "outputs": [
    {
     "data": {
      "text/plain": [
       "(torch.Size([1, 384, 384, 2]), torch.Size([1, 32, 384, 384]))"
      ]
     },
     "execution_count": 5,
     "metadata": {},
     "output_type": "execute_result"
    }
   ],
   "source": [
    "region.shape, affinity.shape"
   ]
  },
  {
   "cell_type": "code",
   "execution_count": 6,
   "metadata": {},
   "outputs": [],
   "source": [
    "from utils.gaussian import GaussianTransformer\n",
    "from utils import imgproc"
   ]
  },
  {
   "cell_type": "code",
   "execution_count": 7,
   "metadata": {},
   "outputs": [],
   "source": [
    "gaussian = GaussianTransformer(512, 0.4,0.2)\n",
    "gaussian.saveGaussianHeat()\n",
    "gaussian._test()"
   ]
  },
  {
   "cell_type": "code",
   "execution_count": null,
   "metadata": {},
   "outputs": [],
   "source": [
    "bbox0 = np.array([[[0, 0], [100, 0], [100, 100], [0, 100]]])\n",
    "image = np.zeros((500, 500), np.uint8)\n",
    "# image = gaussian.add_region_character(image, bbox)\n",
    "bbox1 = np.array([[[100, 0], [200, 0], [200, 100], [100, 100]]])\n",
    "bbox2 = np.array([[[100, 100], [200, 100], [200, 200], [100, 200]]])\n",
    "bbox3 = np.array([[[0, 100], [100, 100], [100, 200], [0, 200]]])\n",
    "\n",
    "bbox4 = np.array([[[96, 0], [151, 9], [139, 64], [83, 58]]])\n",
    "# image = gaussian.add_region_character(image, bbox)\n",
    "# print(image.max())\n",
    "image = gaussian.generate_region((500, 500, 1), [bbox4])\n",
    "target_gaussian_heatmap_color = imgproc.cvt2HeatmapImg(image.copy() / 255)\n",
    "cv2.imshow(\"test\", target_gaussian_heatmap_color)\n",
    "cv2.imwrite(\"test.jpg\", target_gaussian_heatmap_color)\n",
    "cv2.waitKey()"
   ]
  },
  {
   "cell_type": "code",
   "execution_count": 8,
   "metadata": {},
   "outputs": [],
   "source": [
    "import data_loader"
   ]
  },
  {
   "cell_type": "code",
   "execution_count": null,
   "metadata": {},
   "outputs": [],
   "source": []
  }
 ],
 "metadata": {
  "kernelspec": {
   "display_name": "Python 3",
   "language": "python",
   "name": "python3"
  },
  "language_info": {
   "codemirror_mode": {
    "name": "ipython",
    "version": 3
   },
   "file_extension": ".py",
   "mimetype": "text/x-python",
   "name": "python",
   "nbconvert_exporter": "python",
   "pygments_lexer": "ipython3",
   "version": "3.8.2"
  }
 },
 "nbformat": 4,
 "nbformat_minor": 4
}
